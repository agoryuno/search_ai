{
 "cells": [
  {
   "cell_type": "code",
   "execution_count": 1,
   "metadata": {},
   "outputs": [],
   "source": [
    "import pickle\n",
    "\n",
    "import torch\n",
    "import numpy as np\n",
    "\n",
    "from callformer.transformer import CallFormer, ModelDimensions\n",
    "from callformer.tokenizer import Tokenizer\n",
    "from callformer.decoding import BeamSearchDecoder, DecodingOptions\n",
    "\n",
    "DATA_PATH = \"full_samples.pkl\"\n",
    "\n",
    "with open(DATA_PATH, \"rb\") as f:\n",
    "    full_samples = pickle.load(f)\n",
    "\n",
    "STATE_SIZE = len(full_samples[0][-1])\n",
    "\n",
    "tokenizer = Tokenizer()\n",
    "\n",
    "model_dims = ModelDimensions(\n",
    "                n_vocab=tokenizer.vocab_size,\n",
    "                n_ctx=100,\n",
    "                n_state=STATE_SIZE,\n",
    "                n_head=8,\n",
    "                n_layer=2,\n",
    "                n_prefix=1,)\n"
   ]
  },
  {
   "cell_type": "code",
   "execution_count": 5,
   "metadata": {},
   "outputs": [
    {
     "name": "stdout",
     "output_type": "stream",
     "text": [
      "creating kv_cache\n"
     ]
    },
    {
     "ename": "IndexError",
     "evalue": "index 0 is out of bounds for dimension 0 with size 0",
     "output_type": "error",
     "traceback": [
      "\u001b[0;31m---------------------------------------------------------------------------\u001b[0m",
      "\u001b[0;31mIndexError\u001b[0m                                Traceback (most recent call last)",
      "\u001b[0;32m/tmp/ipykernel_17449/1353835437.py\u001b[0m in \u001b[0;36m<module>\u001b[0;34m\u001b[0m\n\u001b[1;32m      7\u001b[0m     \u001b[0mn_groups\u001b[0m\u001b[0;34m=\u001b[0m\u001b[0;36m2\u001b[0m\u001b[0;34m,\u001b[0m\u001b[0;34m\u001b[0m\u001b[0;34m\u001b[0m\u001b[0m\n\u001b[1;32m      8\u001b[0m )\n\u001b[0;32m----> 9\u001b[0;31m \u001b[0mmodel\u001b[0m\u001b[0;34m.\u001b[0m\u001b[0mdecode\u001b[0m\u001b[0;34m(\u001b[0m\u001b[0membed\u001b[0m\u001b[0;34m,\u001b[0m \u001b[0moptions\u001b[0m\u001b[0;34m=\u001b[0m\u001b[0moptions\u001b[0m\u001b[0;34m)\u001b[0m\u001b[0;34m\u001b[0m\u001b[0;34m\u001b[0m\u001b[0m\n\u001b[0m",
      "\u001b[0;32m~/.local/lib/python3.10/site-packages/torch/autograd/grad_mode.py\u001b[0m in \u001b[0;36mdecorate_context\u001b[0;34m(*args, **kwargs)\u001b[0m\n\u001b[1;32m     25\u001b[0m         \u001b[0;32mdef\u001b[0m \u001b[0mdecorate_context\u001b[0m\u001b[0;34m(\u001b[0m\u001b[0;34m*\u001b[0m\u001b[0margs\u001b[0m\u001b[0;34m,\u001b[0m \u001b[0;34m**\u001b[0m\u001b[0mkwargs\u001b[0m\u001b[0;34m)\u001b[0m\u001b[0;34m:\u001b[0m\u001b[0;34m\u001b[0m\u001b[0;34m\u001b[0m\u001b[0m\n\u001b[1;32m     26\u001b[0m             \u001b[0;32mwith\u001b[0m \u001b[0mself\u001b[0m\u001b[0;34m.\u001b[0m\u001b[0mclone\u001b[0m\u001b[0;34m(\u001b[0m\u001b[0;34m)\u001b[0m\u001b[0;34m:\u001b[0m\u001b[0;34m\u001b[0m\u001b[0;34m\u001b[0m\u001b[0m\n\u001b[0;32m---> 27\u001b[0;31m                 \u001b[0;32mreturn\u001b[0m \u001b[0mfunc\u001b[0m\u001b[0;34m(\u001b[0m\u001b[0;34m*\u001b[0m\u001b[0margs\u001b[0m\u001b[0;34m,\u001b[0m \u001b[0;34m**\u001b[0m\u001b[0mkwargs\u001b[0m\u001b[0;34m)\u001b[0m\u001b[0;34m\u001b[0m\u001b[0;34m\u001b[0m\u001b[0m\n\u001b[0m\u001b[1;32m     28\u001b[0m         \u001b[0;32mreturn\u001b[0m \u001b[0mcast\u001b[0m\u001b[0;34m(\u001b[0m\u001b[0mF\u001b[0m\u001b[0;34m,\u001b[0m \u001b[0mdecorate_context\u001b[0m\u001b[0;34m)\u001b[0m\u001b[0;34m\u001b[0m\u001b[0;34m\u001b[0m\u001b[0m\n\u001b[1;32m     29\u001b[0m \u001b[0;34m\u001b[0m\u001b[0m\n",
      "\u001b[0;32m~/coding/github_projects/search_ai/search_ai/callformer/decoding.py\u001b[0m in \u001b[0;36mdecode_function\u001b[0;34m(model, embedding, options, **kwargs)\u001b[0m\n\u001b[1;32m    470\u001b[0m \u001b[0;34m\u001b[0m\u001b[0m\n\u001b[1;32m    471\u001b[0m     \u001b[0;32mwith\u001b[0m \u001b[0mtorch\u001b[0m\u001b[0;34m.\u001b[0m\u001b[0mno_grad\u001b[0m\u001b[0;34m(\u001b[0m\u001b[0;34m)\u001b[0m\u001b[0;34m:\u001b[0m\u001b[0;34m\u001b[0m\u001b[0;34m\u001b[0m\u001b[0m\n\u001b[0;32m--> 472\u001b[0;31m         \u001b[0mresult\u001b[0m \u001b[0;34m=\u001b[0m \u001b[0mDecodingTask\u001b[0m\u001b[0;34m(\u001b[0m\u001b[0mmodel\u001b[0m\u001b[0;34m,\u001b[0m \u001b[0moptions\u001b[0m\u001b[0;34m)\u001b[0m\u001b[0;34m.\u001b[0m\u001b[0mrun\u001b[0m\u001b[0;34m(\u001b[0m\u001b[0membedding\u001b[0m\u001b[0;34m)\u001b[0m\u001b[0;34m\u001b[0m\u001b[0;34m\u001b[0m\u001b[0m\n\u001b[0m\u001b[1;32m    473\u001b[0m \u001b[0;34m\u001b[0m\u001b[0m\n\u001b[1;32m    474\u001b[0m     \u001b[0;32mreturn\u001b[0m \u001b[0mresult\u001b[0m\u001b[0;34m\u001b[0m\u001b[0;34m\u001b[0m\u001b[0m\n",
      "\u001b[0;32m~/.local/lib/python3.10/site-packages/torch/autograd/grad_mode.py\u001b[0m in \u001b[0;36mdecorate_context\u001b[0;34m(*args, **kwargs)\u001b[0m\n\u001b[1;32m     25\u001b[0m         \u001b[0;32mdef\u001b[0m \u001b[0mdecorate_context\u001b[0m\u001b[0;34m(\u001b[0m\u001b[0;34m*\u001b[0m\u001b[0margs\u001b[0m\u001b[0;34m,\u001b[0m \u001b[0;34m**\u001b[0m\u001b[0mkwargs\u001b[0m\u001b[0;34m)\u001b[0m\u001b[0;34m:\u001b[0m\u001b[0;34m\u001b[0m\u001b[0;34m\u001b[0m\u001b[0m\n\u001b[1;32m     26\u001b[0m             \u001b[0;32mwith\u001b[0m \u001b[0mself\u001b[0m\u001b[0;34m.\u001b[0m\u001b[0mclone\u001b[0m\u001b[0;34m(\u001b[0m\u001b[0;34m)\u001b[0m\u001b[0;34m:\u001b[0m\u001b[0;34m\u001b[0m\u001b[0;34m\u001b[0m\u001b[0m\n\u001b[0;32m---> 27\u001b[0;31m                 \u001b[0;32mreturn\u001b[0m \u001b[0mfunc\u001b[0m\u001b[0;34m(\u001b[0m\u001b[0;34m*\u001b[0m\u001b[0margs\u001b[0m\u001b[0;34m,\u001b[0m \u001b[0;34m**\u001b[0m\u001b[0mkwargs\u001b[0m\u001b[0;34m)\u001b[0m\u001b[0;34m\u001b[0m\u001b[0;34m\u001b[0m\u001b[0m\n\u001b[0m\u001b[1;32m     28\u001b[0m         \u001b[0;32mreturn\u001b[0m \u001b[0mcast\u001b[0m\u001b[0;34m(\u001b[0m\u001b[0mF\u001b[0m\u001b[0;34m,\u001b[0m \u001b[0mdecorate_context\u001b[0m\u001b[0;34m)\u001b[0m\u001b[0;34m\u001b[0m\u001b[0;34m\u001b[0m\u001b[0m\n\u001b[1;32m     29\u001b[0m \u001b[0;34m\u001b[0m\u001b[0m\n",
      "\u001b[0;32m~/coding/github_projects/search_ai/search_ai/callformer/decoding.py\u001b[0m in \u001b[0;36mrun\u001b[0;34m(self, embedding)\u001b[0m\n\u001b[1;32m    446\u001b[0m         \u001b[0membedding\u001b[0m \u001b[0;34m=\u001b[0m \u001b[0membedding\u001b[0m\u001b[0;34m.\u001b[0m\u001b[0mrepeat_interleave\u001b[0m\u001b[0;34m(\u001b[0m\u001b[0mself\u001b[0m\u001b[0;34m.\u001b[0m\u001b[0mn_groups\u001b[0m\u001b[0;34m,\u001b[0m \u001b[0mdim\u001b[0m\u001b[0;34m=\u001b[0m\u001b[0;36m0\u001b[0m\u001b[0;34m)\u001b[0m\u001b[0;34m\u001b[0m\u001b[0;34m\u001b[0m\u001b[0m\n\u001b[1;32m    447\u001b[0m \u001b[0;34m\u001b[0m\u001b[0m\n\u001b[0;32m--> 448\u001b[0;31m         \u001b[0mtokens\u001b[0m\u001b[0;34m,\u001b[0m \u001b[0msum_logprobs\u001b[0m \u001b[0;34m=\u001b[0m \u001b[0mself\u001b[0m\u001b[0;34m.\u001b[0m\u001b[0m_main_loop\u001b[0m\u001b[0;34m(\u001b[0m\u001b[0membedding\u001b[0m\u001b[0;34m,\u001b[0m \u001b[0mtokens\u001b[0m\u001b[0;34m)\u001b[0m\u001b[0;34m\u001b[0m\u001b[0;34m\u001b[0m\u001b[0m\n\u001b[0m\u001b[1;32m    449\u001b[0m         \u001b[0mtokens\u001b[0m \u001b[0;34m=\u001b[0m \u001b[0mself\u001b[0m\u001b[0;34m.\u001b[0m\u001b[0mdecoder\u001b[0m\u001b[0;34m.\u001b[0m\u001b[0mfinalize\u001b[0m\u001b[0;34m(\u001b[0m\u001b[0mtokens\u001b[0m\u001b[0;34m,\u001b[0m \u001b[0msum_logprobs\u001b[0m\u001b[0;34m)\u001b[0m\u001b[0;34m\u001b[0m\u001b[0;34m\u001b[0m\u001b[0m\n\u001b[1;32m    450\u001b[0m         \u001b[0;32mreturn\u001b[0m \u001b[0mtokens\u001b[0m\u001b[0;34m\u001b[0m\u001b[0;34m\u001b[0m\u001b[0m\n",
      "\u001b[0;32m~/coding/github_projects/search_ai/search_ai/callformer/decoding.py\u001b[0m in \u001b[0;36m_main_loop\u001b[0;34m(self, embedding, tokens)\u001b[0m\n\u001b[1;32m    423\u001b[0m                 \u001b[0mlogits\u001b[0m \u001b[0;34m=\u001b[0m \u001b[0mlogits\u001b[0m\u001b[0;34m[\u001b[0m\u001b[0;34m:\u001b[0m\u001b[0;34m,\u001b[0m \u001b[0;34m-\u001b[0m\u001b[0;36m1\u001b[0m\u001b[0;34m]\u001b[0m\u001b[0;34m\u001b[0m\u001b[0;34m\u001b[0m\u001b[0m\n\u001b[1;32m    424\u001b[0m \u001b[0;34m\u001b[0m\u001b[0m\n\u001b[0;32m--> 425\u001b[0;31m                 \u001b[0mtokens\u001b[0m\u001b[0;34m,\u001b[0m \u001b[0msum_logprobs\u001b[0m\u001b[0;34m,\u001b[0m \u001b[0mcompleted\u001b[0m \u001b[0;34m=\u001b[0m \u001b[0mself\u001b[0m\u001b[0;34m.\u001b[0m\u001b[0mdecoder\u001b[0m\u001b[0;34m.\u001b[0m\u001b[0mupdate\u001b[0m\u001b[0;34m(\u001b[0m\u001b[0mtokens\u001b[0m\u001b[0;34m,\u001b[0m \u001b[0mlogits\u001b[0m\u001b[0;34m,\u001b[0m \u001b[0msum_logprobs\u001b[0m\u001b[0;34m)\u001b[0m\u001b[0;34m\u001b[0m\u001b[0;34m\u001b[0m\u001b[0m\n\u001b[0m\u001b[1;32m    426\u001b[0m \u001b[0;34m\u001b[0m\u001b[0m\n\u001b[1;32m    427\u001b[0m                 \u001b[0;32mif\u001b[0m \u001b[0mcompleted\u001b[0m\u001b[0;34m:\u001b[0m\u001b[0;34m\u001b[0m\u001b[0;34m\u001b[0m\u001b[0m\n",
      "\u001b[0;32m~/coding/github_projects/search_ai/search_ai/callformer/decoding.py\u001b[0m in \u001b[0;36mupdate\u001b[0;34m(self, tokens, logits, sum_logprobs)\u001b[0m\n\u001b[1;32m    309\u001b[0m \u001b[0;34m\u001b[0m\u001b[0m\n\u001b[1;32m    310\u001b[0m         \u001b[0;32mfor\u001b[0m \u001b[0mi\u001b[0m \u001b[0;32min\u001b[0m \u001b[0mrange\u001b[0m\u001b[0;34m(\u001b[0m\u001b[0;36m0\u001b[0m\u001b[0;34m,\u001b[0m \u001b[0mn_batches\u001b[0m\u001b[0;34m,\u001b[0m \u001b[0mself\u001b[0m\u001b[0;34m.\u001b[0m\u001b[0mbeam_size\u001b[0m\u001b[0;34m)\u001b[0m\u001b[0;34m:\u001b[0m\u001b[0;34m\u001b[0m\u001b[0;34m\u001b[0m\u001b[0m\n\u001b[0;32m--> 311\u001b[0;31m             beam_tokens, beam_sum_logprobs = self.make_beam(tokens[:self.beam_size], \n\u001b[0m\u001b[1;32m    312\u001b[0m                        \u001b[0mlogits\u001b[0m\u001b[0;34m[\u001b[0m\u001b[0;34m:\u001b[0m\u001b[0mself\u001b[0m\u001b[0;34m.\u001b[0m\u001b[0mbeam_size\u001b[0m\u001b[0;34m]\u001b[0m\u001b[0;34m,\u001b[0m\u001b[0;34m\u001b[0m\u001b[0;34m\u001b[0m\u001b[0m\n\u001b[1;32m    313\u001b[0m                        sum_logprobs[:self.beam_size])\n",
      "\u001b[0;32m~/coding/github_projects/search_ai/search_ai/callformer/decoding.py\u001b[0m in \u001b[0;36mmake_beam\u001b[0;34m(self, tokens, logits, sum_logprobs)\u001b[0m\n\u001b[1;32m    282\u001b[0m                     \u001b[0;32mbreak\u001b[0m\u001b[0;34m\u001b[0m\u001b[0;34m\u001b[0m\u001b[0m\n\u001b[1;32m    283\u001b[0m             \u001b[0;32mif\u001b[0m \u001b[0;32mnot\u001b[0m \u001b[0mbeam_sequences\u001b[0m\u001b[0;34m.\u001b[0m\u001b[0mget\u001b[0m\u001b[0;34m(\u001b[0m\u001b[0mi\u001b[0m\u001b[0;34m,\u001b[0m \u001b[0;32mFalse\u001b[0m\u001b[0;34m)\u001b[0m\u001b[0;34m:\u001b[0m\u001b[0;34m\u001b[0m\u001b[0;34m\u001b[0m\u001b[0m\n\u001b[0;32m--> 284\u001b[0;31m                 \u001b[0mbeam_sequences\u001b[0m\u001b[0;34m[\u001b[0m\u001b[0mi\u001b[0m\u001b[0;34m]\u001b[0m \u001b[0;34m=\u001b[0m \u001b[0;34m(\u001b[0m\u001b[0msequences\u001b[0m\u001b[0;34m[\u001b[0m\u001b[0;36m0\u001b[0m\u001b[0;34m]\u001b[0m\u001b[0;34m,\u001b[0m \u001b[0mslogprobs\u001b[0m\u001b[0;34m[\u001b[0m\u001b[0;36m0\u001b[0m\u001b[0;34m]\u001b[0m\u001b[0;34m)\u001b[0m\u001b[0;34m\u001b[0m\u001b[0;34m\u001b[0m\u001b[0m\n\u001b[0m\u001b[1;32m    285\u001b[0m                 \u001b[0massigned\u001b[0m\u001b[0;34m[\u001b[0m\u001b[0mtuple\u001b[0m\u001b[0;34m(\u001b[0m\u001b[0msequences\u001b[0m\u001b[0;34m[\u001b[0m\u001b[0;36m0\u001b[0m\u001b[0;34m]\u001b[0m\u001b[0;34m.\u001b[0m\u001b[0mtolist\u001b[0m\u001b[0;34m(\u001b[0m\u001b[0;34m)\u001b[0m\u001b[0;34m)\u001b[0m\u001b[0;34m]\u001b[0m \u001b[0;34m=\u001b[0m \u001b[0;32mTrue\u001b[0m\u001b[0;34m\u001b[0m\u001b[0;34m\u001b[0m\u001b[0m\n\u001b[1;32m    286\u001b[0m \u001b[0;34m\u001b[0m\u001b[0m\n",
      "\u001b[0;31mIndexError\u001b[0m: index 0 is out of bounds for dimension 0 with size 0"
     ]
    }
   ],
   "source": [
    "model = CallFormer(model_dims)\n",
    "model.eval()\n",
    "\n",
    "embed = torch.from_numpy(np.array(full_samples[1][-1])).unsqueeze(0)\n",
    "\n",
    "options = DecodingOptions(\n",
    "    decoder = BeamSearchDecoder,\n",
    "    n_groups=2,\n",
    ")\n",
    "model.decode(embed, options=options)"
   ]
  },
  {
   "cell_type": "code",
   "execution_count": 3,
   "metadata": {},
   "outputs": [
    {
     "data": {
      "text/plain": [
       "tensor([1, 2])"
      ]
     },
     "execution_count": 3,
     "metadata": {},
     "output_type": "execute_result"
    }
   ],
   "source": [
    "import torch\n",
    "\n",
    "init_tokens = (1,2,3,4,)\n",
    "tokens = torch.tensor([init_tokens]).repeat(2,1)\n",
    "tokens = torch.repeat_interleave(tokens, 2, dim=0)\n",
    "a = tokens[0]\n",
    "a[[0,1]]\n"
   ]
  },
  {
   "cell_type": "code",
   "execution_count": 4,
   "metadata": {},
   "outputs": [
    {
     "name": "stdout",
     "output_type": "stream",
     "text": [
      "8841 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\n",
      "12344\n"
     ]
    }
   ],
   "source": [
    "import array\n",
    "import zlib\n",
    "import base64\n",
    "\n",
    "\n",
    "def encode(vector):\n",
    "    # Convert the list of floats to a binary array\n",
    "    binary_vector = array.array('d', vector).tobytes()\n",
    "\n",
    "    # Compress the binary array using zlib\n",
    "    compressed_vector = zlib.compress(binary_vector)\n",
    "\n",
    "    # Encode the compressed binary data as a base64 string\n",
    "    \n",
    "    return base64.b64encode(compressed_vector).decode()\n",
    "\n",
    "def decode(string):\n",
    "    # Decode the base64 string and decompress the binary data\n",
    "    decoded_compressed_vector = base64.b64decode(string)\n",
    "    decompressed_vector = zlib.decompress(decoded_compressed_vector)\n",
    "\n",
    "    # Convert the binary data back to an array of floats\n",
    "    binary_array = array.array('d')\n",
    "    binary_array.frombytes(decompressed_vector)\n",
    "    return list(binary_array)\n",
    "\n",
    "import sys\n",
    "enc_vec = encode(full_samples[0][-1])\n",
    "print (sys.getsizeof(enc_vec), enc_vec)\n",
    "print(sys.getsizeof(decode(enc_vec)))"
   ]
  }
 ],
 "metadata": {
  "kernelspec": {
   "display_name": "Python 3",
   "language": "python",
   "name": "python3"
  },
  "language_info": {
   "codemirror_mode": {
    "name": "ipython",
    "version": 3
   },
   "file_extension": ".py",
   "mimetype": "text/x-python",
   "name": "python",
   "nbconvert_exporter": "python",
   "pygments_lexer": "ipython3",
   "version": "3.10.7"
  },
  "orig_nbformat": 4
 },
 "nbformat": 4,
 "nbformat_minor": 2
}
