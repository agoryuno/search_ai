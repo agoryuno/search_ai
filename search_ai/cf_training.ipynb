{
 "cells": [
  {
   "cell_type": "code",
   "execution_count": 4,
   "metadata": {},
   "outputs": [],
   "source": [
    "import torch\n",
    "import torch.nn.functional as F\n",
    "from torch.utils.data import Dataset, DataLoader\n",
    "\n",
    "import numpy as np\n",
    "\n",
    "from tqdm import tqdm\n",
    "\n",
    "from callformer.transformer import ModelDimensions, CallFormer\n",
    "from callformer.tokenizer import Tokenizer\n",
    "\n",
    "import pickle\n",
    "from copy import copy\n",
    "from datetime import date\n",
    "\n",
    "with open(\"full_samples.pkl\", \"rb\") as f:\n",
    "    full_samples = pickle.load(f)\n",
    "\n",
    "tokenizer = Tokenizer()\n",
    "\n",
    "token_samples = []\n",
    "\n",
    "tokens = [{\"call\": \"<|searchnotes|>\",\n",
    "           \"args\": []},\n",
    "           {\"call\": \"<|summarize|>\"}]\n",
    "\n",
    "for sample in full_samples:\n",
    "    search_start_date = \"\"\n",
    "    if sample[2][0] != -1:\n",
    "        search_start_date = f'\"{date(year=sample[2][0], month=sample[2][1], day=sample[2][2]).strftime(\"%Y-%m-%d\")}\"'\n",
    "    call_string = (\n",
    "        f'{tokens[0][\"call\"]}'\n",
    "        f'({search_start_date})'\n",
    "        f'{tokens[1][\"call\"]}'\n",
    "        )\n",
    "    toks = tokenizer.encode(call_string)\n",
    "    token_samples.append((\n",
    "                         sample[0], \n",
    "                         sample[1],\n",
    "                         sample[2], \n",
    "                         torch.from_numpy(np.array(sample[3])).unsqueeze(0).float(),\n",
    "                         toks))\n",
    "    \n",
    "\n",
    "\n",
    "class CallFormerDataset(Dataset):\n",
    "    def __init__(self, samples, model_dims: ModelDimensions):\n",
    "        self.samples = samples\n",
    "        self.n_ctx = model_dims.n_ctx\n",
    "        \n",
    "    def __len__(self):\n",
    "        return len(self.samples)\n",
    "    \n",
    "    def __getitem__(self, idx):\n",
    "        input = torch.empty(self.n_ctx)\n",
    "        target = torch.empty(self.n_ctx)\n",
    "        seq_len = self.samples[idx][-1].shape[0]\n",
    "        assert seq_len <= self.n_ctx\n",
    "        \n",
    "        input[:seq_len-1] = self.samples[idx][-1][:-1]\n",
    "        #input[seq_len-1] = tokenizer.eot\n",
    "        input[seq_len:] = tokenizer.pad\n",
    "        input = input.to(torch.long)\n",
    "        target[:seq_len-1] = self.samples[idx][-1][1:]\n",
    "        #target[seq_len-1] = tokenizer.eot\n",
    "        target[seq_len:] = tokenizer.pad\n",
    "        target = target.to(torch.long)\n",
    "        embedding = self.samples[idx][-2]\n",
    "        return embedding, input, target\n",
    "\n",
    "\n",
    "def prepare_training_inputs(\n",
    "                            tokens: torch.Tensor, \n",
    "                            embedding: torch.Tensor, \n",
    "                            tokenizer: Tokenizer,\n",
    "                            ):\n",
    "    assert embedding.ndim in (2, 3)\n",
    "    \n",
    "    if embedding.ndim == 2:\n",
    "        embedding = embedding.unsqueeze(0)\n",
    "    n_batches: int = tokens.shape[0]\n",
    "    start_token = tokenizer.vocab_lookup[\"<|start|>\"]\n",
    "    start_tokens = torch.tensor([start_token] * n_batches, device=embedding.device).unsqueeze(-1)\n",
    "    tokens = torch.hstack((start_tokens, tokens[...,:-start_tokens.shape[-1]]))\n",
    "    return tokens, embedding"
   ]
  },
  {
   "cell_type": "code",
   "execution_count": 2,
   "metadata": {},
   "outputs": [],
   "source": [
    "STATE_SIZE = token_samples[0][-2].shape[-1]\n",
    "\n",
    "model_dims = ModelDimensions(\n",
    "                n_vocab=tokenizer.vocab_size,\n",
    "                n_ctx=100,\n",
    "                n_state=STATE_SIZE,\n",
    "                n_head=8,\n",
    "                n_layer=2)\n",
    "\n",
    "model = CallFormer(model_dims)"
   ]
  },
  {
   "cell_type": "code",
   "execution_count": 5,
   "metadata": {},
   "outputs": [
    {
     "name": "stderr",
     "output_type": "stream",
     "text": [
      "  0%|          | 0/3250 [00:00<?, ?it/s]"
     ]
    },
    {
     "name": "stdout",
     "output_type": "stream",
     "text": [
      "torch.Size([2, 100]) torch.Size([2, 1])\n"
     ]
    },
    {
     "name": "stderr",
     "output_type": "stream",
     "text": [
      "\n"
     ]
    },
    {
     "ename": "AssertionError",
     "evalue": "",
     "output_type": "error",
     "traceback": [
      "\u001b[0;31m---------------------------------------------------------------------------\u001b[0m",
      "\u001b[0;31mAssertionError\u001b[0m                            Traceback (most recent call last)",
      "\u001b[0;32m/tmp/ipykernel_2303535/193639571.py\u001b[0m in \u001b[0;36m<module>\u001b[0;34m\u001b[0m\n\u001b[1;32m      7\u001b[0m \u001b[0;34m\u001b[0m\u001b[0m\n\u001b[1;32m      8\u001b[0m \u001b[0;32mfor\u001b[0m \u001b[0membedding\u001b[0m\u001b[0;34m,\u001b[0m \u001b[0minput\u001b[0m\u001b[0;34m,\u001b[0m \u001b[0mtarget\u001b[0m \u001b[0;32min\u001b[0m \u001b[0mtqdm\u001b[0m\u001b[0;34m(\u001b[0m\u001b[0mdloader\u001b[0m\u001b[0;34m)\u001b[0m\u001b[0;34m:\u001b[0m\u001b[0;34m\u001b[0m\u001b[0;34m\u001b[0m\u001b[0m\n\u001b[0;32m----> 9\u001b[0;31m     \u001b[0minput\u001b[0m\u001b[0;34m,\u001b[0m \u001b[0membedding\u001b[0m \u001b[0;34m=\u001b[0m \u001b[0mprepare_training_inputs\u001b[0m\u001b[0;34m(\u001b[0m\u001b[0minput\u001b[0m\u001b[0;34m,\u001b[0m \u001b[0membedding\u001b[0m\u001b[0;34m,\u001b[0m \u001b[0mtokenizer\u001b[0m\u001b[0;34m)\u001b[0m\u001b[0;34m\u001b[0m\u001b[0;34m\u001b[0m\u001b[0m\n\u001b[0m\u001b[1;32m     10\u001b[0m     \u001b[0mlogits\u001b[0m \u001b[0;34m=\u001b[0m \u001b[0mmodel\u001b[0m\u001b[0;34m.\u001b[0m\u001b[0mdecoder\u001b[0m\u001b[0;34m(\u001b[0m\u001b[0minput\u001b[0m\u001b[0;34m,\u001b[0m \u001b[0membedding\u001b[0m\u001b[0;34m)\u001b[0m\u001b[0;34m\u001b[0m\u001b[0;34m\u001b[0m\u001b[0m\n\u001b[1;32m     11\u001b[0m     \u001b[0mresult\u001b[0m \u001b[0;34m=\u001b[0m \u001b[0mlogits\u001b[0m\u001b[0;34m[\u001b[0m\u001b[0;34m:\u001b[0m\u001b[0;34m,\u001b[0m \u001b[0;36m1\u001b[0m\u001b[0;34m:\u001b[0m\u001b[0;34m,\u001b[0m \u001b[0;34m:\u001b[0m\u001b[0;34m]\u001b[0m\u001b[0;34m\u001b[0m\u001b[0;34m\u001b[0m\u001b[0m\n",
      "\u001b[0;32m/tmp/ipykernel_2303535/2282414823.py\u001b[0m in \u001b[0;36mprepare_training_inputs\u001b[0;34m(tokens, embedding, tokenizer)\u001b[0m\n\u001b[1;32m     83\u001b[0m     \u001b[0mstart_tokens\u001b[0m \u001b[0;34m=\u001b[0m \u001b[0mtorch\u001b[0m\u001b[0;34m.\u001b[0m\u001b[0mtensor\u001b[0m\u001b[0;34m(\u001b[0m\u001b[0;34m[\u001b[0m\u001b[0mstart_token\u001b[0m\u001b[0;34m]\u001b[0m \u001b[0;34m*\u001b[0m \u001b[0mn_batches\u001b[0m\u001b[0;34m,\u001b[0m \u001b[0mdevice\u001b[0m\u001b[0;34m=\u001b[0m\u001b[0membedding\u001b[0m\u001b[0;34m.\u001b[0m\u001b[0mdevice\u001b[0m\u001b[0;34m)\u001b[0m\u001b[0;34m.\u001b[0m\u001b[0munsqueeze\u001b[0m\u001b[0;34m(\u001b[0m\u001b[0;34m-\u001b[0m\u001b[0;36m1\u001b[0m\u001b[0;34m)\u001b[0m\u001b[0;34m\u001b[0m\u001b[0;34m\u001b[0m\u001b[0m\n\u001b[1;32m     84\u001b[0m     \u001b[0mprint\u001b[0m \u001b[0;34m(\u001b[0m\u001b[0mtokens\u001b[0m\u001b[0;34m.\u001b[0m\u001b[0mshape\u001b[0m\u001b[0;34m,\u001b[0m \u001b[0mstart_tokens\u001b[0m\u001b[0;34m.\u001b[0m\u001b[0mshape\u001b[0m\u001b[0;34m)\u001b[0m\u001b[0;34m\u001b[0m\u001b[0;34m\u001b[0m\u001b[0m\n\u001b[0;32m---> 85\u001b[0;31m     \u001b[0;32massert\u001b[0m \u001b[0;32mFalse\u001b[0m\u001b[0;34m\u001b[0m\u001b[0;34m\u001b[0m\u001b[0m\n\u001b[0m\u001b[1;32m     86\u001b[0m     \u001b[0mtokens\u001b[0m \u001b[0;34m=\u001b[0m \u001b[0mtorch\u001b[0m\u001b[0;34m.\u001b[0m\u001b[0mhstack\u001b[0m\u001b[0;34m(\u001b[0m\u001b[0;34m(\u001b[0m\u001b[0mstart_tokens\u001b[0m\u001b[0;34m,\u001b[0m \u001b[0mtokens\u001b[0m\u001b[0;34m[\u001b[0m\u001b[0;34m...\u001b[0m\u001b[0;34m,\u001b[0m\u001b[0;34m:\u001b[0m\u001b[0;34m-\u001b[0m\u001b[0mstart_tokens\u001b[0m\u001b[0;34m.\u001b[0m\u001b[0mshape\u001b[0m\u001b[0;34m[\u001b[0m\u001b[0;34m-\u001b[0m\u001b[0;36m1\u001b[0m\u001b[0;34m]\u001b[0m\u001b[0;34m]\u001b[0m\u001b[0;34m)\u001b[0m\u001b[0;34m)\u001b[0m\u001b[0;34m\u001b[0m\u001b[0;34m\u001b[0m\u001b[0m\n\u001b[1;32m     87\u001b[0m     \u001b[0;32mreturn\u001b[0m \u001b[0mtokens\u001b[0m\u001b[0;34m,\u001b[0m \u001b[0membedding\u001b[0m\u001b[0;34m\u001b[0m\u001b[0;34m\u001b[0m\u001b[0m\n",
      "\u001b[0;31mAssertionError\u001b[0m: "
     ]
    }
   ],
   "source": [
    "ds = CallFormerDataset(token_samples, model_dims)\n",
    "dloader = DataLoader(ds, batch_size=2, shuffle=True)\n",
    "\n",
    "loss_fn = torch.nn.CrossEntropyLoss()\n",
    "\n",
    "optimizer = torch.optim.Adam(model.parameters(), lr=1e-3)\n",
    "\n",
    "for embedding, input, target in tqdm(dloader):\n",
    "    input, embedding = prepare_training_inputs(input, embedding, tokenizer)\n",
    "    logits = model.decoder(input, embedding)\n",
    "    result = logits[:, 1:, :]\n",
    "    \n",
    "    optimizer.zero_grad()\n",
    "    loss = loss_fn(result.mT, target)\n",
    "    print (loss.item())\n",
    "    loss.backward()\n",
    "    optimizer.step()"
   ]
  }
 ],
 "metadata": {
  "kernelspec": {
   "display_name": "Python 3",
   "language": "python",
   "name": "python3"
  },
  "language_info": {
   "codemirror_mode": {
    "name": "ipython",
    "version": 3
   },
   "file_extension": ".py",
   "mimetype": "text/x-python",
   "name": "python",
   "nbconvert_exporter": "python",
   "pygments_lexer": "ipython3",
   "version": "3.10.7"
  },
  "orig_nbformat": 4
 },
 "nbformat": 4,
 "nbformat_minor": 2
}
