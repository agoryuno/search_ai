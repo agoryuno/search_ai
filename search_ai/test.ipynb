{
 "cells": [
  {
   "cell_type": "code",
   "execution_count": 17,
   "metadata": {},
   "outputs": [],
   "source": [
    "import torch\n",
    "import torch.nn.functional as F\n",
    "\n",
    "import numpy as np\n",
    "\n",
    "\n",
    "from callformer.decoding import DecodingOptions\n",
    "from callformer.transformer import ModelDimensions, CallFormer\n",
    "from callformer.tokenizer import Tokenizer"
   ]
  },
  {
   "cell_type": "code",
   "execution_count": 2,
   "metadata": {},
   "outputs": [
    {
     "data": {
      "text/plain": [
       "[('2021-01-03',\n",
       "  'Today is Sunday, January 03, 2021. Give me a summary of my notes from the past two days. Focus on the ones that are related to quantum computing.',\n",
       "  ['<|searchnotes|>(\"2021-01-01\")<|summarize|>']),\n",
       " ('2033-03-27',\n",
       "  'Today is Sunday, March 27, 2033. Summarize my thoughts on AI safety from the past three days. Organize the summary as a timeline.',\n",
       "  ['<|searchnotes|>(\"2033-03-24\")<|summarize|>'])]"
      ]
     },
     "execution_count": 2,
     "metadata": {},
     "output_type": "execute_result"
    }
   ],
   "source": [
    "import pickle\n",
    "from copy import copy\n",
    "from datetime import date\n",
    "\n",
    "with open(\"full_samples.pkl\", \"rb\") as f:\n",
    "    full_samples = pickle.load(f)\n",
    "\n",
    "tokenizer = Tokenizer()\n",
    "\n",
    "token_samples = []\n",
    "\n",
    "tokens = [{\"call\": \"<|searchnotes|>\",\n",
    "           \"args\": []},\n",
    "           {\"call\": \"<|summarize|>\"}]\n",
    "\n",
    "for sample in full_samples:\n",
    "    search_start_date = \"\"\n",
    "    if sample[2][0] != -1:\n",
    "        search_start_date = f'\"{date(year=sample[2][0], month=sample[2][1], day=sample[2][2]).strftime(\"%Y-%m-%d\")}\"'\n",
    "    call_string = (\n",
    "        f'{tokens[0][\"call\"]}'\n",
    "        f'({search_start_date})'\n",
    "        f'{tokens[1][\"call\"]}'\n",
    "        )\n",
    "    toks = tokenizer.encode(call_string)\n",
    "    token_samples.append((\n",
    "                         sample[0], \n",
    "                         sample[1],\n",
    "                         sample[2], \n",
    "                         torch.from_numpy(np.array(sample[3])).unsqueeze(0).float(),\n",
    "                         toks))\n",
    "\n",
    "[(sample[0], sample[1], tokenizer.decode(sample[-1])) for sample in token_samples[:2]]"
   ]
  },
  {
   "cell_type": "code",
   "execution_count": 3,
   "metadata": {},
   "outputs": [],
   "source": [
    "STATE_SIZE = token_samples[0][-2].shape[-1]\n",
    "\n",
    "model_dims = ModelDimensions(\n",
    "                n_vocab=tokenizer.vocab_size,\n",
    "                n_ctx=10,\n",
    "                n_state=STATE_SIZE,\n",
    "                n_head=8,\n",
    "                n_layer=2)\n",
    "\n",
    "model = CallFormer(model_dims)"
   ]
  },
  {
   "cell_type": "code",
   "execution_count": 4,
   "metadata": {},
   "outputs": [
    {
     "name": "stdout",
     "output_type": "stream",
     "text": [
      "tensor([[ 4.3098e+01,  1.4385e+03, -4.6197e+01, -8.5025e+01,  5.2699e+01,\n",
      "         -3.1928e+01, -1.9067e+01,  1.5778e+01, -1.7439e-01, -7.4256e+00,\n",
      "          3.6566e+01,  3.9672e+01, -4.3644e+01,  4.6168e+01,  4.5078e+01,\n",
      "          6.1112e+01,  4.1165e+01, -4.5078e+01,  4.8758e+01, -2.0507e+01,\n",
      "         -6.3366e+01, -1.8753e+01,  4.0300e+01,  3.9436e+01, -2.8448e+01]])\n",
      "tensor([[ 4.3098e+01,  1.4385e+03, -4.6197e+01, -8.5025e+01,  5.2699e+01,\n",
      "         -3.1928e+01, -1.9067e+01,  1.5778e+01, -1.7439e-01, -7.4256e+00,\n",
      "          3.6566e+01,  3.9672e+01, -4.3644e+01,  4.6168e+01,  4.5078e+01,\n",
      "          6.1112e+01,  4.1165e+01, -4.5078e+01,  4.8758e+01, -2.0507e+01,\n",
      "         -6.3366e+01, -1.8753e+01,  4.0300e+01,  3.9436e+01, -2.8448e+01]])\n",
      "tensor([[ 4.3098e+01,  1.4385e+03, -4.6197e+01, -8.5025e+01,  5.2699e+01,\n",
      "         -3.1928e+01, -1.9067e+01,  1.5778e+01, -1.7441e-01, -7.4256e+00,\n",
      "          3.6566e+01,  3.9672e+01, -4.3644e+01,  4.6168e+01,  4.5078e+01,\n",
      "          6.1112e+01,  4.1165e+01, -4.5078e+01,  4.8758e+01, -2.0507e+01,\n",
      "         -6.3366e+01, -1.8753e+01,  4.0300e+01,  3.9436e+01, -2.8448e+01]])\n",
      "tensor([[ 4.3098e+01,  1.4385e+03, -4.6197e+01, -8.5025e+01,  5.2699e+01,\n",
      "         -3.1928e+01, -1.9067e+01,  1.5778e+01, -1.7440e-01, -7.4256e+00,\n",
      "          3.6566e+01,  3.9672e+01, -4.3644e+01,  4.6168e+01,  4.5078e+01,\n",
      "          6.1112e+01,  4.1165e+01, -4.5078e+01,  4.8758e+01, -2.0507e+01,\n",
      "         -6.3366e+01, -1.8753e+01,  4.0300e+01,  3.9436e+01, -2.8448e+01]])\n",
      "tensor([[ 4.3098e+01,  1.4385e+03, -4.6197e+01, -8.5025e+01,  5.2699e+01,\n",
      "         -3.1928e+01, -1.9067e+01,  1.5778e+01, -1.7440e-01, -7.4256e+00,\n",
      "          3.6566e+01,  3.9672e+01, -4.3644e+01,  4.6168e+01,  4.5078e+01,\n",
      "          6.1112e+01,  4.1165e+01, -4.5078e+01,  4.8758e+01, -2.0507e+01,\n",
      "         -6.3366e+01, -1.8753e+01,  4.0300e+01,  3.9436e+01, -2.8448e+01]])\n"
     ]
    },
    {
     "data": {
      "text/plain": [
       "['<|start|><|start|><|start|><|start|><|start|><|start|><|end|>']"
      ]
     },
     "execution_count": 4,
     "metadata": {},
     "output_type": "execute_result"
    }
   ],
   "source": [
    "res, sum_probs = model.decode(token_samples[0][-2], DecodingOptions())\n",
    "tokenizer.decode(res[0])"
   ]
  },
  {
   "cell_type": "code",
   "execution_count": 5,
   "metadata": {},
   "outputs": [
    {
     "name": "stdout",
     "output_type": "stream",
     "text": [
      "model size: 288.416MB\n"
     ]
    }
   ],
   "source": [
    "param_size = 0\n",
    "for param in model.parameters():\n",
    "    param_size += param.nelement() * param.element_size()\n",
    "buffer_size = 0\n",
    "for buffer in model.buffers():\n",
    "    buffer_size += buffer.nelement() * buffer.element_size()\n",
    "\n",
    "size_all_mb = (param_size + buffer_size) / 1024**2\n",
    "print('model size: {:.3f}MB'.format(size_all_mb))"
   ]
  },
  {
   "cell_type": "code",
   "execution_count": 6,
   "metadata": {},
   "outputs": [
    {
     "data": {
      "text/plain": [
       "torch.Size([1, 1, 150])"
      ]
     },
     "execution_count": 6,
     "metadata": {},
     "output_type": "execute_result"
    }
   ],
   "source": [
    "def sinusoids(length, channels, max_timescale=10000):\n",
    "    \"\"\"Returns sinusoids for positional embedding\"\"\"\n",
    "    assert channels % 2 == 0\n",
    "    log_timescale_increment = np.log(max_timescale) / (channels // 2 - 1)\n",
    "    inv_timescales = torch.exp(-log_timescale_increment * torch.arange(channels // 2))\n",
    "    scaled_time = torch.arange(length)[:, np.newaxis] * inv_timescales[np.newaxis, :]\n",
    "    return torch.cat([torch.sin(scaled_time), torch.cos(scaled_time)], dim=1)\n",
    "\n",
    "\n",
    "class Test(torch.nn.Module):\n",
    "    def __init__(self):\n",
    "        super().__init__()\n",
    "        self.register_buffer(\"positional_embedding\", sinusoids(1, 150))\n",
    "\n",
    "    def forward(self, x):\n",
    "        return x + self.positional_embedding\n",
    "    \n",
    "test = Test()\n",
    "test(torch.randn(1, 1, 150)).shape"
   ]
  },
  {
   "cell_type": "code",
   "execution_count": 38,
   "metadata": {},
   "outputs": [
    {
     "data": {
      "text/plain": [
       "tensor([[0, 0, 0, 1, 0, 0, 0, 0, 0, 0, 0, 0, 0, 0, 0, 0, 0, 0, 0, 0, 0, 0, 0, 0,\n",
       "         0],\n",
       "        [0, 0, 0, 0, 0, 0, 0, 0, 0, 1, 0, 0, 0, 0, 0, 0, 0, 0, 0, 0, 0, 0, 0, 0,\n",
       "         0],\n",
       "        [0, 0, 0, 0, 0, 0, 0, 0, 0, 0, 0, 0, 0, 1, 0, 0, 0, 0, 0, 0, 0, 0, 0, 0,\n",
       "         0],\n",
       "        [0, 0, 0, 0, 0, 0, 0, 0, 0, 0, 0, 0, 0, 0, 0, 0, 0, 1, 0, 0, 0, 0, 0, 0,\n",
       "         0],\n",
       "        [0, 0, 0, 0, 0, 0, 0, 0, 0, 0, 0, 0, 0, 0, 0, 1, 0, 0, 0, 0, 0, 0, 0, 0,\n",
       "         0],\n",
       "        [0, 0, 0, 0, 0, 0, 0, 0, 0, 0, 0, 0, 0, 0, 0, 0, 0, 1, 0, 0, 0, 0, 0, 0,\n",
       "         0],\n",
       "        [0, 0, 0, 0, 0, 0, 0, 0, 0, 0, 0, 0, 0, 0, 0, 0, 1, 0, 0, 0, 0, 0, 0, 0,\n",
       "         0],\n",
       "        [0, 0, 0, 0, 0, 0, 0, 0, 0, 0, 0, 0, 1, 0, 0, 0, 0, 0, 0, 0, 0, 0, 0, 0,\n",
       "         0],\n",
       "        [0, 0, 0, 0, 0, 0, 0, 0, 0, 0, 0, 0, 0, 0, 0, 1, 0, 0, 0, 0, 0, 0, 0, 0,\n",
       "         0],\n",
       "        [0, 0, 0, 0, 0, 0, 0, 0, 0, 0, 0, 0, 0, 0, 0, 0, 1, 0, 0, 0, 0, 0, 0, 0,\n",
       "         0],\n",
       "        [0, 0, 0, 0, 0, 0, 0, 0, 0, 0, 0, 0, 1, 0, 0, 0, 0, 0, 0, 0, 0, 0, 0, 0,\n",
       "         0],\n",
       "        [0, 0, 0, 0, 0, 0, 0, 0, 0, 0, 0, 0, 0, 0, 0, 1, 0, 0, 0, 0, 0, 0, 0, 0,\n",
       "         0],\n",
       "        [0, 0, 0, 0, 0, 0, 0, 0, 0, 0, 0, 0, 0, 0, 0, 0, 1, 0, 0, 0, 0, 0, 0, 0,\n",
       "         0],\n",
       "        [0, 0, 0, 0, 0, 0, 0, 0, 0, 0, 0, 0, 0, 1, 0, 0, 0, 0, 0, 0, 0, 0, 0, 0,\n",
       "         0],\n",
       "        [0, 0, 0, 0, 0, 0, 0, 0, 0, 0, 1, 0, 0, 0, 0, 0, 0, 0, 0, 0, 0, 0, 0, 0,\n",
       "         0],\n",
       "        [0, 0, 0, 0, 0, 0, 0, 0, 1, 0, 0, 0, 0, 0, 0, 0, 0, 0, 0, 0, 0, 0, 0, 0,\n",
       "         0]])"
      ]
     },
     "execution_count": 38,
     "metadata": {},
     "output_type": "execute_result"
    }
   ],
   "source": [
    "sample = token_samples[0][-1]\n",
    "F.one_hot(sample.to(int), model_dims.n_vocab)\n",
    "\n"
   ]
  },
  {
   "cell_type": "code",
   "execution_count": 37,
   "metadata": {},
   "outputs": [
    {
     "data": {
      "text/plain": [
       "(tensor([ 3,  9, 13, 17, 15, 17, 16, 12, 15, 16, 12, 15, 16, 13, 10,  8]),\n",
       " tensor([0, 1, 2, 0, 1]))"
      ]
     },
     "execution_count": 37,
     "metadata": {},
     "output_type": "execute_result"
    }
   ],
   "source": [
    "sample.to(int), torch.arange(0, 5) % 3"
   ]
  },
  {
   "cell_type": "code",
   "execution_count": 44,
   "metadata": {},
   "outputs": [
    {
     "data": {
      "text/plain": [
       "tensor([1, 1, 1, 1, 1, 1, 2])"
      ]
     },
     "execution_count": 44,
     "metadata": {},
     "output_type": "execute_result"
    }
   ],
   "source": [
    "loss = torch.nn.CrossEntropyLoss()\n",
    "\n",
    "sample = token_samples[0][-1]\n",
    "target = sample.to(int)\n",
    "\n",
    "input = res[0]\n",
    "input"
   ]
  }
 ],
 "metadata": {
  "kernelspec": {
   "display_name": "Python 3",
   "language": "python",
   "name": "python3"
  },
  "language_info": {
   "codemirror_mode": {
    "name": "ipython",
    "version": 3
   },
   "file_extension": ".py",
   "mimetype": "text/x-python",
   "name": "python",
   "nbconvert_exporter": "python",
   "pygments_lexer": "ipython3",
   "version": "3.10.7"
  },
  "orig_nbformat": 4
 },
 "nbformat": 4,
 "nbformat_minor": 2
}
