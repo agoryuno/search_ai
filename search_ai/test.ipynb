{
 "cells": [
  {
   "cell_type": "code",
   "execution_count": 1,
   "metadata": {},
   "outputs": [],
   "source": [
    "import torch\n",
    "import numpy as np\n",
    "\n",
    "\n",
    "from callformer.decoding import DecodingOptions\n",
    "from callformer.transformer import ModelDimensions, CallFormer\n",
    "from callformer.tokenizer import Tokenizer"
   ]
  },
  {
   "cell_type": "code",
   "execution_count": 2,
   "metadata": {},
   "outputs": [
    {
     "data": {
      "text/plain": [
       "[('2021-01-03',\n",
       "  'Today is Sunday, January 03, 2021. Give me a summary of my notes from the past two days. Focus on the ones that are related to quantum computing.',\n",
       "  ['<|searchnotes|>(\"2021-01-01\")<|summarize|>']),\n",
       " ('2033-03-27',\n",
       "  'Today is Sunday, March 27, 2033. Summarize my thoughts on AI safety from the past three days. Organize the summary as a timeline.',\n",
       "  ['<|searchnotes|>(\"2033-03-24\")<|summarize|>'])]"
      ]
     },
     "execution_count": 2,
     "metadata": {},
     "output_type": "execute_result"
    }
   ],
   "source": [
    "import pickle\n",
    "from copy import copy\n",
    "from datetime import date\n",
    "\n",
    "with open(\"full_samples.pkl\", \"rb\") as f:\n",
    "    full_samples = pickle.load(f)\n",
    "\n",
    "tokenizer = Tokenizer()\n",
    "\n",
    "token_samples = []\n",
    "\n",
    "tokens = [{\"call\": \"<|searchnotes|>\",\n",
    "           \"args\": []},\n",
    "           {\"call\": \"<|summarize|>\"}]\n",
    "\n",
    "for sample in full_samples:\n",
    "    search_start_date = \"\"\n",
    "    if sample[2][0] != -1:\n",
    "        search_start_date = f'\"{date(year=sample[2][0], month=sample[2][1], day=sample[2][2]).strftime(\"%Y-%m-%d\")}\"'\n",
    "    call_string = (\n",
    "        f'{tokens[0][\"call\"]}'\n",
    "        f'({search_start_date})'\n",
    "        f'{tokens[1][\"call\"]}'\n",
    "        )\n",
    "    toks = tokenizer.encode(call_string)\n",
    "    token_samples.append((\n",
    "                         sample[0], \n",
    "                         sample[1],\n",
    "                         sample[2], \n",
    "                         torch.from_numpy(np.array(sample[3])).unsqueeze(0).float(),\n",
    "                         toks))\n",
    "\n",
    "[(sample[0], sample[1], tokenizer.decode(sample[-1])) for sample in token_samples[:2]]"
   ]
  },
  {
   "cell_type": "code",
   "execution_count": 5,
   "metadata": {},
   "outputs": [],
   "source": [
    "STATE_SIZE = token_samples[0][-2].shape[-1]\n",
    "\n",
    "model_dims = ModelDimensions(\n",
    "                n_vocab=tokenizer.vocab_size,\n",
    "                n_ctx=10,\n",
    "                n_state=STATE_SIZE,\n",
    "                n_head=8,\n",
    "                n_layer=2)\n",
    "\n",
    "model = CallFormer(model_dims)"
   ]
  },
  {
   "cell_type": "code",
   "execution_count": 6,
   "metadata": {},
   "outputs": [
    {
     "name": "stdout",
     "output_type": "stream",
     "text": [
      "(1) _main_loop() torch.Size([1, 1]) torch.Size([1, 1, 1536])\n",
      "(2) _main_loop() torch.Size([1, 1]) torch.Size([1, 1, 1536])\n",
      "PyTorchInference.logits(): torch.Size([1, 1]) torch.Size([1, 1, 1536])\n",
      "(1) Decoder.forward(): torch.Size([1, 1, 1536]), torch.Size([1, 1])\n",
      "(2) Decoder.forward(): self.token_embedding(x).shape=torch.Size([1, 1, 1536]), x.shape=torch.Size([1, 1])\n",
      "(3) Decoder.forward(): torch.Size([1, 1, 1536]), torch.Size([1, 1, 1536])\n",
      "MHA.forward(): torch.Size([1, 1, 1536]) None\n",
      "MHA.forward(): torch.Size([1, 1, 1536]) torch.Size([1, 1, 1536]) torch.Size([1, 1, 1536])\n",
      "(1) MHA.qkv_attention(): torch.Size([1, 1, 1536]) torch.Size([1, 1, 1536]) torch.Size([1, 1, 1536])\n",
      "MHA.forward(): torch.Size([1, 1, 1536]) torch.Size([1, 1, 1536])\n",
      "MHA.forward(): torch.Size([1, 1, 1536]) torch.Size([1, 1, 1536]) torch.Size([1, 1, 1536])\n",
      "(1) MHA.qkv_attention(): torch.Size([1, 1, 1536]) torch.Size([1, 1, 1536]) torch.Size([1, 1, 1536])\n",
      "MHA.forward(): torch.Size([1, 1, 1536]) None\n",
      "MHA.forward(): torch.Size([1, 1, 1536]) torch.Size([1, 1, 1536]) torch.Size([1, 1, 1536])\n",
      "(1) MHA.qkv_attention(): torch.Size([1, 1, 1536]) torch.Size([1, 1, 1536]) torch.Size([1, 1, 1536])\n",
      "MHA.forward(): torch.Size([1, 1, 1536]) torch.Size([1, 1, 1536])\n",
      "MHA.forward(): torch.Size([1, 1, 1536]) torch.Size([1, 1, 1536]) torch.Size([1, 1, 1536])\n",
      "(1) MHA.qkv_attention(): torch.Size([1, 1, 1536]) torch.Size([1, 1, 1536]) torch.Size([1, 1, 1536])\n",
      "(2) _main_loop() torch.Size([1, 2]) torch.Size([1, 1, 1536])\n",
      "PyTorchInference.logits(): torch.Size([1, 1]) torch.Size([1, 1, 1536])\n",
      "(1) Decoder.forward(): torch.Size([1, 1, 1536]), torch.Size([1, 1])\n",
      "(2) Decoder.forward(): self.token_embedding(x).shape=torch.Size([1, 1, 1536]), x.shape=torch.Size([1, 1])\n",
      "(3) Decoder.forward(): torch.Size([1, 1, 1536]), torch.Size([1, 1, 1536])\n",
      "MHA.forward(): torch.Size([1, 1, 1536]) None\n",
      "MHA.forward(): torch.Size([1, 1, 1536]) torch.Size([1, 2, 1536]) torch.Size([1, 2, 1536])\n",
      "(1) MHA.qkv_attention(): torch.Size([1, 1, 1536]) torch.Size([1, 2, 1536]) torch.Size([1, 2, 1536])\n",
      "MHA.forward(): torch.Size([1, 1, 1536]) torch.Size([1, 1, 1536])\n",
      "MHA.forward(): torch.Size([1, 1, 1536]) torch.Size([1, 1, 1536]) torch.Size([1, 1, 1536])\n",
      "(1) MHA.qkv_attention(): torch.Size([1, 1, 1536]) torch.Size([1, 1, 1536]) torch.Size([1, 1, 1536])\n",
      "MHA.forward(): torch.Size([1, 1, 1536]) None\n",
      "MHA.forward(): torch.Size([1, 1, 1536]) torch.Size([1, 2, 1536]) torch.Size([1, 2, 1536])\n",
      "(1) MHA.qkv_attention(): torch.Size([1, 1, 1536]) torch.Size([1, 2, 1536]) torch.Size([1, 2, 1536])\n",
      "MHA.forward(): torch.Size([1, 1, 1536]) torch.Size([1, 1, 1536])\n",
      "MHA.forward(): torch.Size([1, 1, 1536]) torch.Size([1, 1, 1536]) torch.Size([1, 1, 1536])\n",
      "(1) MHA.qkv_attention(): torch.Size([1, 1, 1536]) torch.Size([1, 1, 1536]) torch.Size([1, 1, 1536])\n",
      "(2) _main_loop() torch.Size([1, 3]) torch.Size([1, 1, 1536])\n",
      "PyTorchInference.logits(): torch.Size([1, 1]) torch.Size([1, 1, 1536])\n",
      "(1) Decoder.forward(): torch.Size([1, 1, 1536]), torch.Size([1, 1])\n",
      "(2) Decoder.forward(): self.token_embedding(x).shape=torch.Size([1, 1, 1536]), x.shape=torch.Size([1, 1])\n",
      "(3) Decoder.forward(): torch.Size([1, 1, 1536]), torch.Size([1, 1, 1536])\n",
      "MHA.forward(): torch.Size([1, 1, 1536]) None\n",
      "MHA.forward(): torch.Size([1, 1, 1536]) torch.Size([1, 3, 1536]) torch.Size([1, 3, 1536])\n",
      "(1) MHA.qkv_attention(): torch.Size([1, 1, 1536]) torch.Size([1, 3, 1536]) torch.Size([1, 3, 1536])\n",
      "MHA.forward(): torch.Size([1, 1, 1536]) torch.Size([1, 1, 1536])\n",
      "MHA.forward(): torch.Size([1, 1, 1536]) torch.Size([1, 1, 1536]) torch.Size([1, 1, 1536])\n",
      "(1) MHA.qkv_attention(): torch.Size([1, 1, 1536]) torch.Size([1, 1, 1536]) torch.Size([1, 1, 1536])\n",
      "MHA.forward(): torch.Size([1, 1, 1536]) None\n",
      "MHA.forward(): torch.Size([1, 1, 1536]) torch.Size([1, 3, 1536]) torch.Size([1, 3, 1536])\n",
      "(1) MHA.qkv_attention(): torch.Size([1, 1, 1536]) torch.Size([1, 3, 1536]) torch.Size([1, 3, 1536])\n",
      "MHA.forward(): torch.Size([1, 1, 1536]) torch.Size([1, 1, 1536])\n",
      "MHA.forward(): torch.Size([1, 1, 1536]) torch.Size([1, 1, 1536]) torch.Size([1, 1, 1536])\n",
      "(1) MHA.qkv_attention(): torch.Size([1, 1, 1536]) torch.Size([1, 1, 1536]) torch.Size([1, 1, 1536])\n",
      "(2) _main_loop() torch.Size([1, 4]) torch.Size([1, 1, 1536])\n",
      "PyTorchInference.logits(): torch.Size([1, 1]) torch.Size([1, 1, 1536])\n",
      "(1) Decoder.forward(): torch.Size([1, 1, 1536]), torch.Size([1, 1])\n",
      "(2) Decoder.forward(): self.token_embedding(x).shape=torch.Size([1, 1, 1536]), x.shape=torch.Size([1, 1])\n",
      "(3) Decoder.forward(): torch.Size([1, 1, 1536]), torch.Size([1, 1, 1536])\n",
      "MHA.forward(): torch.Size([1, 1, 1536]) None\n",
      "MHA.forward(): torch.Size([1, 1, 1536]) torch.Size([1, 4, 1536]) torch.Size([1, 4, 1536])\n",
      "(1) MHA.qkv_attention(): torch.Size([1, 1, 1536]) torch.Size([1, 4, 1536]) torch.Size([1, 4, 1536])\n",
      "MHA.forward(): torch.Size([1, 1, 1536]) torch.Size([1, 1, 1536])\n",
      "MHA.forward(): torch.Size([1, 1, 1536]) torch.Size([1, 1, 1536]) torch.Size([1, 1, 1536])\n",
      "(1) MHA.qkv_attention(): torch.Size([1, 1, 1536]) torch.Size([1, 1, 1536]) torch.Size([1, 1, 1536])\n",
      "MHA.forward(): torch.Size([1, 1, 1536]) None\n",
      "MHA.forward(): torch.Size([1, 1, 1536]) torch.Size([1, 4, 1536]) torch.Size([1, 4, 1536])\n",
      "(1) MHA.qkv_attention(): torch.Size([1, 1, 1536]) torch.Size([1, 4, 1536]) torch.Size([1, 4, 1536])\n",
      "MHA.forward(): torch.Size([1, 1, 1536]) torch.Size([1, 1, 1536])\n",
      "MHA.forward(): torch.Size([1, 1, 1536]) torch.Size([1, 1, 1536]) torch.Size([1, 1, 1536])\n",
      "(1) MHA.qkv_attention(): torch.Size([1, 1, 1536]) torch.Size([1, 1, 1536]) torch.Size([1, 1, 1536])\n",
      "(2) _main_loop() torch.Size([1, 5]) torch.Size([1, 1, 1536])\n",
      "PyTorchInference.logits(): torch.Size([1, 1]) torch.Size([1, 1, 1536])\n",
      "(1) Decoder.forward(): torch.Size([1, 1, 1536]), torch.Size([1, 1])\n",
      "(2) Decoder.forward(): self.token_embedding(x).shape=torch.Size([1, 1, 1536]), x.shape=torch.Size([1, 1])\n",
      "(3) Decoder.forward(): torch.Size([1, 1, 1536]), torch.Size([1, 1, 1536])\n",
      "MHA.forward(): torch.Size([1, 1, 1536]) None\n",
      "MHA.forward(): torch.Size([1, 1, 1536]) torch.Size([1, 5, 1536]) torch.Size([1, 5, 1536])\n",
      "(1) MHA.qkv_attention(): torch.Size([1, 1, 1536]) torch.Size([1, 5, 1536]) torch.Size([1, 5, 1536])\n",
      "MHA.forward(): torch.Size([1, 1, 1536]) torch.Size([1, 1, 1536])\n",
      "MHA.forward(): torch.Size([1, 1, 1536]) torch.Size([1, 1, 1536]) torch.Size([1, 1, 1536])\n",
      "(1) MHA.qkv_attention(): torch.Size([1, 1, 1536]) torch.Size([1, 1, 1536]) torch.Size([1, 1, 1536])\n",
      "MHA.forward(): torch.Size([1, 1, 1536]) None\n",
      "MHA.forward(): torch.Size([1, 1, 1536]) torch.Size([1, 5, 1536]) torch.Size([1, 5, 1536])\n",
      "(1) MHA.qkv_attention(): torch.Size([1, 1, 1536]) torch.Size([1, 5, 1536]) torch.Size([1, 5, 1536])\n",
      "MHA.forward(): torch.Size([1, 1, 1536]) torch.Size([1, 1, 1536])\n",
      "MHA.forward(): torch.Size([1, 1, 1536]) torch.Size([1, 1, 1536]) torch.Size([1, 1, 1536])\n",
      "(1) MHA.qkv_attention(): torch.Size([1, 1, 1536]) torch.Size([1, 1, 1536]) torch.Size([1, 1, 1536])\n",
      "torch.Size([1, 6])\n"
     ]
    },
    {
     "ename": "TypeError",
     "evalue": "'NoneType' object is not subscriptable",
     "output_type": "error",
     "traceback": [
      "\u001b[0;31m---------------------------------------------------------------------------\u001b[0m",
      "\u001b[0;31mTypeError\u001b[0m                                 Traceback (most recent call last)",
      "\u001b[0;32m/tmp/ipykernel_2081813/2670137052.py\u001b[0m in \u001b[0;36m<module>\u001b[0;34m\u001b[0m\n\u001b[0;32m----> 1\u001b[0;31m \u001b[0mmodel\u001b[0m\u001b[0;34m.\u001b[0m\u001b[0mdecode\u001b[0m\u001b[0;34m(\u001b[0m\u001b[0mtoken_samples\u001b[0m\u001b[0;34m[\u001b[0m\u001b[0;36m0\u001b[0m\u001b[0;34m]\u001b[0m\u001b[0;34m[\u001b[0m\u001b[0;34m-\u001b[0m\u001b[0;36m2\u001b[0m\u001b[0;34m]\u001b[0m\u001b[0;34m,\u001b[0m \u001b[0mDecodingOptions\u001b[0m\u001b[0;34m(\u001b[0m\u001b[0;34m)\u001b[0m\u001b[0;34m)\u001b[0m\u001b[0;34m\u001b[0m\u001b[0;34m\u001b[0m\u001b[0m\n\u001b[0m",
      "\u001b[0;32m~/.local/lib/python3.10/site-packages/torch/autograd/grad_mode.py\u001b[0m in \u001b[0;36mdecorate_context\u001b[0;34m(*args, **kwargs)\u001b[0m\n\u001b[1;32m     25\u001b[0m         \u001b[0;32mdef\u001b[0m \u001b[0mdecorate_context\u001b[0m\u001b[0;34m(\u001b[0m\u001b[0;34m*\u001b[0m\u001b[0margs\u001b[0m\u001b[0;34m,\u001b[0m \u001b[0;34m**\u001b[0m\u001b[0mkwargs\u001b[0m\u001b[0;34m)\u001b[0m\u001b[0;34m:\u001b[0m\u001b[0;34m\u001b[0m\u001b[0;34m\u001b[0m\u001b[0m\n\u001b[1;32m     26\u001b[0m             \u001b[0;32mwith\u001b[0m \u001b[0mself\u001b[0m\u001b[0;34m.\u001b[0m\u001b[0mclone\u001b[0m\u001b[0;34m(\u001b[0m\u001b[0;34m)\u001b[0m\u001b[0;34m:\u001b[0m\u001b[0;34m\u001b[0m\u001b[0;34m\u001b[0m\u001b[0m\n\u001b[0;32m---> 27\u001b[0;31m                 \u001b[0;32mreturn\u001b[0m \u001b[0mfunc\u001b[0m\u001b[0;34m(\u001b[0m\u001b[0;34m*\u001b[0m\u001b[0margs\u001b[0m\u001b[0;34m,\u001b[0m \u001b[0;34m**\u001b[0m\u001b[0mkwargs\u001b[0m\u001b[0;34m)\u001b[0m\u001b[0;34m\u001b[0m\u001b[0;34m\u001b[0m\u001b[0m\n\u001b[0m\u001b[1;32m     28\u001b[0m         \u001b[0;32mreturn\u001b[0m \u001b[0mcast\u001b[0m\u001b[0;34m(\u001b[0m\u001b[0mF\u001b[0m\u001b[0;34m,\u001b[0m \u001b[0mdecorate_context\u001b[0m\u001b[0;34m)\u001b[0m\u001b[0;34m\u001b[0m\u001b[0;34m\u001b[0m\u001b[0m\n\u001b[1;32m     29\u001b[0m \u001b[0;34m\u001b[0m\u001b[0m\n",
      "\u001b[0;32m~/coding/github_projects/search_ai/search_ai/callformer/decoding.py\u001b[0m in \u001b[0;36mdecode_function\u001b[0;34m(model, embedding, options, **kwargs)\u001b[0m\n\u001b[1;32m    282\u001b[0m     \u001b[0mresult\u001b[0m \u001b[0;34m=\u001b[0m \u001b[0mDecodingTask\u001b[0m\u001b[0;34m(\u001b[0m\u001b[0mmodel\u001b[0m\u001b[0;34m,\u001b[0m \u001b[0moptions\u001b[0m\u001b[0;34m)\u001b[0m\u001b[0;34m.\u001b[0m\u001b[0mrun\u001b[0m\u001b[0;34m(\u001b[0m\u001b[0membedding\u001b[0m\u001b[0;34m)\u001b[0m\u001b[0;34m\u001b[0m\u001b[0;34m\u001b[0m\u001b[0m\n\u001b[1;32m    283\u001b[0m \u001b[0;34m\u001b[0m\u001b[0m\n\u001b[0;32m--> 284\u001b[0;31m     \u001b[0;32mreturn\u001b[0m \u001b[0mresult\u001b[0m\u001b[0;34m[\u001b[0m\u001b[0;36m0\u001b[0m\u001b[0;34m]\u001b[0m \u001b[0;32mif\u001b[0m \u001b[0msingle\u001b[0m \u001b[0;32melse\u001b[0m \u001b[0mresult\u001b[0m\u001b[0;34m\u001b[0m\u001b[0;34m\u001b[0m\u001b[0m\n\u001b[0m",
      "\u001b[0;31mTypeError\u001b[0m: 'NoneType' object is not subscriptable"
     ]
    }
   ],
   "source": [
    "model.decode(token_samples[0][-2], DecodingOptions())"
   ]
  },
  {
   "cell_type": "code",
   "execution_count": null,
   "metadata": {},
   "outputs": [
    {
     "name": "stdout",
     "output_type": "stream",
     "text": [
      "model size: 288.416MB\n"
     ]
    }
   ],
   "source": [
    "param_size = 0\n",
    "for param in model.parameters():\n",
    "    param_size += param.nelement() * param.element_size()\n",
    "buffer_size = 0\n",
    "for buffer in model.buffers():\n",
    "    buffer_size += buffer.nelement() * buffer.element_size()\n",
    "\n",
    "size_all_mb = (param_size + buffer_size) / 1024**2\n",
    "print('model size: {:.3f}MB'.format(size_all_mb))"
   ]
  },
  {
   "cell_type": "code",
   "execution_count": null,
   "metadata": {},
   "outputs": [
    {
     "data": {
      "text/plain": [
       "torch.Size([1, 1, 150])"
      ]
     },
     "execution_count": 12,
     "metadata": {},
     "output_type": "execute_result"
    }
   ],
   "source": [
    "def sinusoids(length, channels, max_timescale=10000):\n",
    "    \"\"\"Returns sinusoids for positional embedding\"\"\"\n",
    "    assert channels % 2 == 0\n",
    "    log_timescale_increment = np.log(max_timescale) / (channels // 2 - 1)\n",
    "    inv_timescales = torch.exp(-log_timescale_increment * torch.arange(channels // 2))\n",
    "    scaled_time = torch.arange(length)[:, np.newaxis] * inv_timescales[np.newaxis, :]\n",
    "    return torch.cat([torch.sin(scaled_time), torch.cos(scaled_time)], dim=1)\n",
    "\n",
    "\n",
    "class Test(torch.nn.Module):\n",
    "    def __init__(self):\n",
    "        super().__init__()\n",
    "        self.register_buffer(\"positional_embedding\", sinusoids(1, 150))\n",
    "\n",
    "    def forward(self, x):\n",
    "        return x + self.positional_embedding\n",
    "    \n",
    "test = Test()\n",
    "test(torch.randn(1, 1, 150)).shape"
   ]
  },
  {
   "cell_type": "code",
   "execution_count": null,
   "metadata": {},
   "outputs": [],
   "source": []
  }
 ],
 "metadata": {
  "kernelspec": {
   "display_name": "Python 3",
   "language": "python",
   "name": "python3"
  },
  "language_info": {
   "codemirror_mode": {
    "name": "ipython",
    "version": 3
   },
   "file_extension": ".py",
   "mimetype": "text/x-python",
   "name": "python",
   "nbconvert_exporter": "python",
   "pygments_lexer": "ipython3",
   "version": "3.10.7"
  },
  "orig_nbformat": 4
 },
 "nbformat": 4,
 "nbformat_minor": 2
}
